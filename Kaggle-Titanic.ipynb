{
 "cells": [
  {
   "cell_type": "markdown",
   "id": "ea1c9fa2",
   "metadata": {},
   "source": [
    "# Titanic "
   ]
  },
  {
   "cell_type": "markdown",
   "id": "bbeb2b5c",
   "metadata": {},
   "source": [
    "## Import all the Libraries which is required for our Analysis"
   ]
  },
  {
   "cell_type": "code",
   "execution_count": 1,
   "id": "172695ee",
   "metadata": {},
   "outputs": [],
   "source": [
    "import pandas as pd\n",
    "import matplotlib.pyplot as plt \n",
    "import warnings\n",
    "warnings.filterwarnings('ignore')"
   ]
  },
  {
   "cell_type": "markdown",
   "id": "7f03f13c",
   "metadata": {},
   "source": [
    "## Import datasets using Pandas Dataframe"
   ]
  },
  {
   "cell_type": "code",
   "execution_count": 2,
   "id": "5af0e557",
   "metadata": {},
   "outputs": [],
   "source": [
    "itanic_test = pd.read_csv('../input/titanic-test/titanic_test.csv')\n",
    "titanic_train = pd.read_csv('../input/titanic-train/titanic_train.csv')"
   ]
  },
  {
   "cell_type": "code",
   "execution_count": 3,
   "id": "9f24fe49",
   "metadata": {
    "scrolled": true
   },
   "outputs": [
    {
     "data": {
      "text/html": [
       "<div>\n",
       "<style scoped>\n",
       "    .dataframe tbody tr th:only-of-type {\n",
       "        vertical-align: middle;\n",
       "    }\n",
       "\n",
       "    .dataframe tbody tr th {\n",
       "        vertical-align: top;\n",
       "    }\n",
       "\n",
       "    .dataframe thead th {\n",
       "        text-align: right;\n",
       "    }\n",
       "</style>\n",
       "<table border=\"1\" class=\"dataframe\">\n",
       "  <thead>\n",
       "    <tr style=\"text-align: right;\">\n",
       "      <th></th>\n",
       "      <th>PassengerId</th>\n",
       "      <th>Survived</th>\n",
       "      <th>Pclass</th>\n",
       "      <th>Name</th>\n",
       "      <th>Sex</th>\n",
       "      <th>Age</th>\n",
       "      <th>SibSp</th>\n",
       "      <th>Parch</th>\n",
       "      <th>Ticket</th>\n",
       "      <th>Fare</th>\n",
       "      <th>Cabin</th>\n",
       "      <th>Embarked</th>\n",
       "    </tr>\n",
       "  </thead>\n",
       "  <tbody>\n",
       "    <tr>\n",
       "      <th>0</th>\n",
       "      <td>1</td>\n",
       "      <td>0</td>\n",
       "      <td>3</td>\n",
       "      <td>Braund, Mr. Owen Harris</td>\n",
       "      <td>male</td>\n",
       "      <td>22.0</td>\n",
       "      <td>1</td>\n",
       "      <td>0</td>\n",
       "      <td>A/5 21171</td>\n",
       "      <td>7.2500</td>\n",
       "      <td>NaN</td>\n",
       "      <td>S</td>\n",
       "    </tr>\n",
       "    <tr>\n",
       "      <th>1</th>\n",
       "      <td>2</td>\n",
       "      <td>1</td>\n",
       "      <td>1</td>\n",
       "      <td>Cumings, Mrs. John Bradley (Florence Briggs Th...</td>\n",
       "      <td>female</td>\n",
       "      <td>38.0</td>\n",
       "      <td>1</td>\n",
       "      <td>0</td>\n",
       "      <td>PC 17599</td>\n",
       "      <td>71.2833</td>\n",
       "      <td>C85</td>\n",
       "      <td>C</td>\n",
       "    </tr>\n",
       "    <tr>\n",
       "      <th>2</th>\n",
       "      <td>3</td>\n",
       "      <td>1</td>\n",
       "      <td>3</td>\n",
       "      <td>Heikkinen, Miss. Laina</td>\n",
       "      <td>female</td>\n",
       "      <td>26.0</td>\n",
       "      <td>0</td>\n",
       "      <td>0</td>\n",
       "      <td>STON/O2. 3101282</td>\n",
       "      <td>7.9250</td>\n",
       "      <td>NaN</td>\n",
       "      <td>S</td>\n",
       "    </tr>\n",
       "    <tr>\n",
       "      <th>3</th>\n",
       "      <td>4</td>\n",
       "      <td>1</td>\n",
       "      <td>1</td>\n",
       "      <td>Futrelle, Mrs. Jacques Heath (Lily May Peel)</td>\n",
       "      <td>female</td>\n",
       "      <td>35.0</td>\n",
       "      <td>1</td>\n",
       "      <td>0</td>\n",
       "      <td>113803</td>\n",
       "      <td>53.1000</td>\n",
       "      <td>C123</td>\n",
       "      <td>S</td>\n",
       "    </tr>\n",
       "    <tr>\n",
       "      <th>4</th>\n",
       "      <td>5</td>\n",
       "      <td>0</td>\n",
       "      <td>3</td>\n",
       "      <td>Allen, Mr. William Henry</td>\n",
       "      <td>male</td>\n",
       "      <td>35.0</td>\n",
       "      <td>0</td>\n",
       "      <td>0</td>\n",
       "      <td>373450</td>\n",
       "      <td>8.0500</td>\n",
       "      <td>NaN</td>\n",
       "      <td>S</td>\n",
       "    </tr>\n",
       "  </tbody>\n",
       "</table>\n",
       "</div>"
      ],
      "text/plain": [
       "   PassengerId  Survived  Pclass  \\\n",
       "0            1         0       3   \n",
       "1            2         1       1   \n",
       "2            3         1       3   \n",
       "3            4         1       1   \n",
       "4            5         0       3   \n",
       "\n",
       "                                                Name     Sex   Age  SibSp  \\\n",
       "0                            Braund, Mr. Owen Harris    male  22.0      1   \n",
       "1  Cumings, Mrs. John Bradley (Florence Briggs Th...  female  38.0      1   \n",
       "2                             Heikkinen, Miss. Laina  female  26.0      0   \n",
       "3       Futrelle, Mrs. Jacques Heath (Lily May Peel)  female  35.0      1   \n",
       "4                           Allen, Mr. William Henry    male  35.0      0   \n",
       "\n",
       "   Parch            Ticket     Fare Cabin Embarked  \n",
       "0      0         A/5 21171   7.2500   NaN        S  \n",
       "1      0          PC 17599  71.2833   C85        C  \n",
       "2      0  STON/O2. 3101282   7.9250   NaN        S  \n",
       "3      0            113803  53.1000  C123        S  \n",
       "4      0            373450   8.0500   NaN        S  "
      ]
     },
     "execution_count": 3,
     "metadata": {},
     "output_type": "execute_result"
    }
   ],
   "source": [
    "titanic_train.head()"
   ]
  },
  {
   "cell_type": "markdown",
   "id": "68bef802",
   "metadata": {},
   "source": [
    "## Perform Exploratory Data Analysis"
   ]
  },
  {
   "cell_type": "code",
   "execution_count": 4,
   "id": "d9201bfa",
   "metadata": {
    "scrolled": true
   },
   "outputs": [
    {
     "data": {
      "text/plain": [
       "(891, 12)"
      ]
     },
     "execution_count": 4,
     "metadata": {},
     "output_type": "execute_result"
    }
   ],
   "source": [
    "titanic_train.shape"
   ]
  },
  {
   "cell_type": "code",
   "execution_count": 5,
   "id": "aadf68e1",
   "metadata": {
    "scrolled": false
   },
   "outputs": [
    {
     "data": {
      "text/plain": [
       "0    549\n",
       "1    342\n",
       "Name: Survived, dtype: int64"
      ]
     },
     "execution_count": 5,
     "metadata": {},
     "output_type": "execute_result"
    }
   ],
   "source": [
    "titanic_train['Survived'].value_counts()"
   ]
  },
  {
   "cell_type": "markdown",
   "id": "6ffc3111",
   "metadata": {},
   "source": [
    "## out of the 891 passengers 549 lost their life and 342 passengers survived and plot the graph for Survived column"
   ]
  },
  {
   "cell_type": "code",
   "execution_count": 6,
   "id": "80f35e06",
   "metadata": {},
   "outputs": [
    {
     "data": {
      "image/png": "[encoded data removed]",
      "text/plain": [
       "<Figure size 360x360 with 1 Axes>"
      ]
     },
     "metadata": {
      "needs_background": "light"
     },
     "output_type": "display_data"
    }
   ],
   "source": [
    "plt.figure(figsize=(5,5))\n",
    "plt.bar(list(titanic_train['Survived'].value_counts().keys()),list(titanic_train['Survived'].value_counts()),color=['r','b'])\n",
    "'''x = [0, 1]\n",
    "ax1 = plt.subplot()\n",
    "ax1.set_xticks(x)\n",
    "ax1.set_xticklabels([ \"Not Survived/Die\", \"Survived\"])'''\n",
    "plt.title('Number of Survived Passengers')\n",
    "plt.show()"
   ]
  },
  {
   "cell_type": "markdown",
   "id": "29fe63c2",
   "metadata": {},
   "source": [
    "## maximum passengers lost their life and as compare to those less passengers are survived"
   ]
  },
  {
   "cell_type": "code",
   "execution_count": 7,
   "id": "ee2f2226",
   "metadata": {},
   "outputs": [
    {
     "data": {
      "text/plain": [
       "3    491\n",
       "1    216\n",
       "2    184\n",
       "Name: Pclass, dtype: int64"
      ]
     },
     "execution_count": 7,
     "metadata": {},
     "output_type": "execute_result"
    }
   ],
   "source": [
    "titanic_train['Pclass'].value_counts()"
   ]
  },
  {
   "cell_type": "markdown",
   "id": "553cd19b",
   "metadata": {},
   "source": [
    "## we will see here 491 passengers in class 3 , 216 comes under the class 1, 184 comes under the class 2"
   ]
  },
  {
   "cell_type": "code",
   "execution_count": 8,
   "id": "3039e538",
   "metadata": {
    "scrolled": true
   },
   "outputs": [
    {
     "data": {
      "image/png": "[encoded data removed]",
      "text/plain": [
       "<Figure size 360x360 with 1 Axes>"
      ]
     },
     "metadata": {
      "needs_background": "light"
     },
     "output_type": "display_data"
    }
   ],
   "source": [
    "plt.figure(figsize=(5,5))\n",
    "plt.bar(list(titanic_train['Pclass'].value_counts().keys()),list(titanic_train['Pclass'].value_counts()),color=['r','b','g'])\n",
    "x = [ 1, 2, 3]\n",
    "ax1 = plt.subplot()\n",
    "ax1.set_xticks(x)\n",
    "ax1.set_xticklabels([\"Class 1\",\"Class 2\",\"Class 3\"])\n",
    "plt.title('Class of Passengers')\n",
    "plt.show()"
   ]
  },
  {
   "cell_type": "markdown",
   "id": "10f8a650",
   "metadata": {},
   "source": [
    "## red color shows the Most of the passenger belongs to class 3"
   ]
  },
  {
   "cell_type": "markdown",
   "id": "ae4aac2e",
   "metadata": {},
   "source": [
    "## i will check how Many Male and Female survived in Titanic\n",
    "## And findout the Frequency Distribution over here"
   ]
  },
  {
   "cell_type": "code",
   "execution_count": 9,
   "id": "c7e36357",
   "metadata": {},
   "outputs": [
    {
     "data": {
      "text/plain": [
       "male      577\n",
       "female    314\n",
       "Name: Sex, dtype: int64"
      ]
     },
     "execution_count": 9,
     "metadata": {},
     "output_type": "execute_result"
    }
   ],
   "source": [
    "titanic_train['Sex'].value_counts()"
   ]
  },
  {
   "cell_type": "markdown",
   "id": "af6c312c",
   "metadata": {},
   "source": [
    "## looking above values their are 577 male and 314 are females passengers\n",
    "## and plot the graph for sex column also"
   ]
  },
  {
   "cell_type": "code",
   "execution_count": 10,
   "id": "dc423a61",
   "metadata": {
    "scrolled": true
   },
   "outputs": [
    {
     "data": {
      "image/png": "[encoded data removed]",
      "text/plain": [
       "<Figure size 360x360 with 1 Axes>"
      ]
     },
     "metadata": {
      "needs_background": "light"
     },
     "output_type": "display_data"
    }
   ],
   "source": [
    "plt.figure(figsize=(5,5))\n",
    "plt.bar(list(titanic_train['Sex'].value_counts().keys()),list(titanic_train['Sex'].value_counts()),color=['b','g'])\n",
    "x = [ 0, 1]\n",
    "ax1 = plt.subplot()\n",
    "ax1.set_xticks(x)\n",
    "ax1.set_xticklabels([\"Male\",\"Female\" ])\n",
    "plt.title('Sex of Passengers')\n",
    "plt.show()"
   ]
  },
  {
   "cell_type": "markdown",
   "id": "c1e0dd1a",
   "metadata": {},
   "source": [
    "## by looking above figure maximum Number of the male are servived than the Females\n",
    "## then plot the Distribution graph for age column"
   ]
  },
  {
   "cell_type": "code",
   "execution_count": 11,
   "id": "ba74c434",
   "metadata": {},
   "outputs": [
    {
     "data": {
      "image/png": "[encoded data removed]",
      "text/plain": [
       "<Figure size 360x504 with 1 Axes>"
      ]
     },
     "metadata": {
      "needs_background": "light"
     },
     "output_type": "display_data"
    }
   ],
   "source": [
    "plt.figure(figsize=(5,7))\n",
    "plt.hist(titanic_train['Age'] ,color='y')\n",
    "plt.xlabel('Age')\n",
    "plt.title('Distribution of Age')\n",
    "plt.show()"
   ]
  },
  {
   "cell_type": "markdown",
   "id": "78955f9c",
   "metadata": {},
   "source": [
    "## here we will see maximum number of passengers survived in beetween the age 25 to 40."
   ]
  },
  {
   "cell_type": "markdown",
   "id": "8b2578c9",
   "metadata": {},
   "source": [
    "## we would need to predict on the test data how many passengers are survived\n",
    "## for building our model first we want to check any missing values are present in the dataset or not."
   ]
  },
  {
   "cell_type": "code",
   "execution_count": 12,
   "id": "2d80c713",
   "metadata": {
    "scrolled": true
   },
   "outputs": [
    {
     "data": {
      "text/plain": [
       "PassengerId      0\n",
       "Survived         0\n",
       "Pclass           0\n",
       "Name             0\n",
       "Sex              0\n",
       "Age            177\n",
       "SibSp            0\n",
       "Parch            0\n",
       "Ticket           0\n",
       "Fare             0\n",
       "Cabin          687\n",
       "Embarked         2\n",
       "dtype: int64"
      ]
     },
     "execution_count": 12,
     "metadata": {},
     "output_type": "execute_result"
    }
   ],
   "source": [
    "titanic_train.isnull().sum()"
   ]
  },
  {
   "cell_type": "markdown",
   "id": "dd2e2707",
   "metadata": {},
   "source": [
    "## we will see some null values are here"
   ]
  },
  {
   "cell_type": "code",
   "execution_count": 13,
   "id": "422ba9ee",
   "metadata": {},
   "outputs": [
    {
     "data": {
      "text/plain": [
       "0"
      ]
     },
     "execution_count": 13,
     "metadata": {},
     "output_type": "execute_result"
    }
   ],
   "source": [
    "titanic_train['Survived'].isna().sum()\n",
    "#dependent variable"
   ]
  },
  {
   "cell_type": "code",
   "execution_count": 14,
   "id": "b0f8c922",
   "metadata": {},
   "outputs": [
    {
     "data": {
      "text/plain": [
       "177"
      ]
     },
     "execution_count": 14,
     "metadata": {},
     "output_type": "execute_result"
    }
   ],
   "source": [
    "titanic_train['Age'].isna().sum()      \n",
    "# age is independent variable"
   ]
  },
  {
   "cell_type": "code",
   "execution_count": 16,
   "id": "039bf8fd",
   "metadata": {},
   "outputs": [],
   "source": [
    "#titanic_train = titanic_train.dropna()\n",
    "titanic_train['Age'] = titanic_train['Age'].fillna(titanic_train['Age'].mean())"
   ]
  },
  {
   "cell_type": "code",
   "execution_count": 17,
   "id": "c55b48e1",
   "metadata": {},
   "outputs": [
    {
     "data": {
      "text/plain": [
       "PassengerId    0\n",
       "Survived       0\n",
       "Pclass         0\n",
       "Name           0\n",
       "Sex            0\n",
       "Age            0\n",
       "SibSp          0\n",
       "Parch          0\n",
       "Ticket         0\n",
       "Fare           0\n",
       "Cabin          0\n",
       "Embarked       0\n",
       "dtype: int64"
      ]
     },
     "execution_count": 17,
     "metadata": {},
     "output_type": "execute_result"
    }
   ],
   "source": [
    "titanic_train.isna().sum()"
   ]
  },
  {
   "cell_type": "markdown",
   "id": "5c27b953",
   "metadata": {},
   "source": [
    "## drop all the null values from age column"
   ]
  },
  {
   "cell_type": "code",
   "execution_count": 18,
   "id": "2a4fe2e3",
   "metadata": {},
   "outputs": [],
   "source": [
    "x_train = titanic_train[['Age']]\n",
    "Y_train = titanic_train[['Survived']]"
   ]
  },
  {
   "cell_type": "markdown",
   "id": "fc7e01af",
   "metadata": {},
   "source": [
    "## here Extract Independent and dependent Veriable \n"
   ]
  },
  {
   "cell_type": "markdown",
   "id": "311a60a9",
   "metadata": {},
   "source": [
    "# Build Model \n",
    "##classification model i.e decision tree"
   ]
  },
  {
   "cell_type": "code",
   "execution_count": 19,
   "id": "924dc231",
   "metadata": {},
   "outputs": [],
   "source": [
    "from sklearn.tree import DecisionTreeClassifier"
   ]
  },
  {
   "cell_type": "code",
   "execution_count": 20,
   "id": "3f444d82",
   "metadata": {},
   "outputs": [],
   "source": [
    "data = DecisionTreeClassifier()"
   ]
  },
  {
   "cell_type": "code",
   "execution_count": 21,
   "id": "6e6ba0b4",
   "metadata": {},
   "outputs": [
    {
     "data": {
      "text/plain": [
       "DecisionTreeClassifier()"
      ]
     },
     "execution_count": 21,
     "metadata": {},
     "output_type": "execute_result"
    }
   ],
   "source": [
    "data.fit(x_train,Y_train)"
   ]
  },
  {
   "cell_type": "markdown",
   "id": "09c26a22",
   "metadata": {},
   "source": [
    "## here i have successfully built our model\n",
    "## first i would like to check null values for age column in the test dataset"
   ]
  },
  {
   "cell_type": "code",
   "execution_count": 22,
   "id": "6e1c7724",
   "metadata": {
    "scrolled": true
   },
   "outputs": [
    {
     "data": {
      "text/plain": [
       "86"
      ]
     },
     "execution_count": 22,
     "metadata": {},
     "output_type": "execute_result"
    }
   ],
   "source": [
    "titanic_test['Age'].isnull().sum()"
   ]
  },
  {
   "cell_type": "markdown",
   "id": "42f41720",
   "metadata": {},
   "source": [
    "## some null values are presented here then i will drop those null values"
   ]
  },
  {
   "cell_type": "code",
   "execution_count": 23,
   "id": "4d3be6d8",
   "metadata": {},
   "outputs": [],
   "source": [
    "titanic_test = titanic_test.dropna()"
   ]
  },
  {
   "cell_type": "code",
   "execution_count": 24,
   "id": "d92c1334",
   "metadata": {
    "scrolled": true
   },
   "outputs": [
    {
     "data": {
      "text/plain": [
       "0"
      ]
     },
     "execution_count": 24,
     "metadata": {},
     "output_type": "execute_result"
    }
   ],
   "source": [
    "titanic_test['Age'].isnull().sum()"
   ]
  },
  {
   "cell_type": "markdown",
   "id": "d9d75fe7",
   "metadata": {},
   "source": [
    "## then Predicting the values using test dataset"
   ]
  },
  {
   "cell_type": "code",
   "execution_count": 25,
   "id": "8146a379",
   "metadata": {},
   "outputs": [],
   "source": [
    "x_test = titanic_test[['Age']]"
   ]
  },
  {
   "cell_type": "code",
   "execution_count": 26,
   "id": "84b304b7",
   "metadata": {},
   "outputs": [],
   "source": [
    "y_predict = data.predict(x_test)"
   ]
  },
  {
   "cell_type": "code",
   "execution_count": 27,
   "id": "abda4ee1",
   "metadata": {
    "scrolled": true
   },
   "outputs": [
    {
     "data": {
      "text/plain": [
       "array([1, 0, 1, 1, 1, 1, 0, 0, 1, 1, 1, 0, 1, 1, 1, 1, 1, 1, 1, 0, 0, 1,\n",
       "       1, 1, 1, 1, 1, 1, 1, 1, 1, 0, 1, 0, 1, 1, 0, 1, 0, 0, 1, 1, 1, 0,\n",
       "       1, 1, 0, 1, 1, 0, 1, 0, 1, 1, 0, 1, 1, 1, 0, 1, 0, 0, 0, 0, 1, 1,\n",
       "       1, 1, 1, 0, 0, 1, 0, 1, 1, 0, 0, 1, 1, 1, 1, 1, 1, 0, 0, 0, 1],\n",
       "      dtype=int64)"
      ]
     },
     "execution_count": 27,
     "metadata": {},
     "output_type": "execute_result"
    }
   ],
   "source": [
    "y_predict"
   ]
  },
  {
   "cell_type": "markdown",
   "id": "38f68e32",
   "metadata": {},
   "source": [
    "## finally check the score of the model "
   ]
  },
  {
   "cell_type": "code",
   "execution_count": 28,
   "id": "ca9e4fb7",
   "metadata": {},
   "outputs": [
    {
     "data": {
      "text/plain": [
       "1.0"
      ]
     },
     "execution_count": 28,
     "metadata": {},
     "output_type": "execute_result"
    }
   ],
   "source": [
    "data.score(x_test,y_predict)"
   ]
  },
  {
   "cell_type": "code",
   "execution_count": null,
   "id": "567638b8",
   "metadata": {},
   "outputs": [],
   "source": []
  }
 ],
 "metadata": {
  "kernelspec": {
   "display_name": "Python 3",
   "language": "python",
   "name": "python3"
  },
  "language_info": {
   "codemirror_mode": {
    "name": "ipython",
    "version": 3
   },
   "file_extension": ".py",
   "mimetype": "text/x-python",
   "name": "python",
   "nbconvert_exporter": "python",
   "pygments_lexer": "ipython3",
   "version": "3.8.8"
  }
 },
 "nbformat": 4,
 "nbformat_minor": 5
}
